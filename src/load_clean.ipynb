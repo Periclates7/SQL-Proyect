{
 "cells": [
  {
   "cell_type": "code",
   "execution_count": null,
   "id": "7354572a",
   "metadata": {},
   "outputs": [],
   "source": [
    "# Carga de bibliotecas\n",
    "\n",
    "import pandas as pd\n",
    "import numpy as np\n",
    "\n",
    "pd.set_option('display.max_rows', None)\n",
    "pd.set_option('display.max_columns', None)\n",
    "\n",
    "import warnings\n",
    "warnings.filterwarnings('ignore')\n",
    "\n",
    "# para pintar\n",
    "import pylab as plt\n",
    "import seaborn as sns"
   ]
  },
  {
   "cell_type": "code",
   "execution_count": null,
   "id": "84ba52d0",
   "metadata": {},
   "outputs": [],
   "source": [
    "# Función de visualización de nulos\n",
    "\n",
    "\n",
    "def check_nan(df: pd.DataFrame) -> None:\n",
    "    \n",
    "    \"\"\"Recibe un dataframe y enseña % de valores nulos y la grafica\"\"\"\n",
    "    \n",
    "    nan_cols = df.isna().mean()  * 100  # porcentaje de nulo en cada columna\n",
    "\n",
    "    display(f'N nan cols: {len(nan_cols[nan_cols>0])}')\n",
    "    display(nan_cols[nan_cols>0])\n",
    "    \n",
    "    # grafico de nulos en el dataframe\n",
    "    plt.figure(figsize=(10, 6))  # inicia la figura y establece el tamaño\n",
    "\n",
    "    sns.heatmap(df.isna(),   # datos\n",
    "                yticklabels=False,\n",
    "                cmap='viridis',\n",
    "                cbar=False\n",
    "               )\n",
    "\n",
    "    plt.show();"
   ]
  },
  {
   "cell_type": "code",
   "execution_count": null,
   "id": "b490b571",
   "metadata": {},
   "outputs": [],
   "source": []
  }
 ],
 "metadata": {
  "kernelspec": {
   "display_name": "Python 3 (ipykernel)",
   "language": "python",
   "name": "python3"
  },
  "language_info": {
   "codemirror_mode": {
    "name": "ipython",
    "version": 3
   },
   "file_extension": ".py",
   "mimetype": "text/x-python",
   "name": "python",
   "nbconvert_exporter": "python",
   "pygments_lexer": "ipython3",
   "version": "3.9.13"
  }
 },
 "nbformat": 4,
 "nbformat_minor": 5
}
